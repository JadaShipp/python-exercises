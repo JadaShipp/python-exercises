{
 "cells": [
  {
   "cell_type": "markdown",
   "metadata": {},
   "source": [
    "#Conditional Basics\n",
    "--prompt the user for the day of the week, print out whether today is Monday or not"
   ]
  },
  {
   "cell_type": "code",
   "execution_count": 2,
   "metadata": {},
   "outputs": [
    {
     "name": "stdout",
     "output_type": "stream",
     "text": [
      "What is the day of the week? monday\n",
      "Today is Monday\n"
     ]
    }
   ],
   "source": [
    "current_day_of_the_week = input('What is the day of the week? ')\n",
    "if current_day_of_the_week.lower() == 'monday':\n",
    "    print('Today is Monday')\n",
    "else: \n",
    "    print ('Today is not Monday')"
   ]
  },
  {
   "cell_type": "markdown",
   "metadata": {},
   "source": [
    "--prompt the user for a day of the week, print out whether the day of the week is a weekday or weekend"
   ]
  },
  {
   "cell_type": "code",
   "execution_count": 4,
   "metadata": {},
   "outputs": [
    {
     "name": "stdout",
     "output_type": "stream",
     "text": [
      "What is the day of the week? sunday\n",
      "It is a weekend\n"
     ]
    }
   ],
   "source": [
    "day_of_the_week = input('What is the day of the week? ')\n",
    "if day_of_the_week.lower() == 'saturday' or day_of_the_week == 'sunday':\n",
    "    print('It is a weekend')\n",
    "else:\n",
    "    print('It a weekday')"
   ]
  },
  {
   "cell_type": "markdown",
   "metadata": {},
   "source": [
    "--create variables and make up values for"
   ]
  },
  {
   "cell_type": "code",
   "execution_count": 4,
   "metadata": {},
   "outputs": [
    {
     "name": "stdout",
     "output_type": "stream",
     "text": [
      "Overtime pay is 2825.0\n"
     ]
    }
   ],
   "source": [
    "hours_worked_in_one_week = 51\n",
    "hourly_rate = 50\n",
    "\n",
    "if hours_worked_in_one_week <= 40:\n",
    "    total = hourly_rate * hours_worked_in_one_week\n",
    "else:\n",
    "    overtime = hours_worked_in_one_week - 40\n",
    "    overtime_pay = overtime * 1.5 * hourly_rate\n",
    "    regular_pay = 40 * hourly_rate\n",
    "    total = regular_pay + overtime_pay\n",
    "    \n",
    "print(f'Overtime pay is {total}')\n",
    "\n",
    "    \n"
   ]
  },
  {
   "cell_type": "markdown",
   "metadata": {},
   "source": [
    "# Loop Basics"
   ]
  },
  {
   "cell_type": "markdown",
   "metadata": {},
   "source": [
    "While Loops:"
   ]
  },
  {
   "cell_type": "markdown",
   "metadata": {},
   "source": [
    "--Create an integer variable i with a value of 5.\n",
    "--Create a while loop that runs so long as i is less than or equal to 15\n",
    "--Each loop iteration, output the current value of i, then increment i by one"
   ]
  },
  {
   "cell_type": "code",
   "execution_count": 8,
   "metadata": {},
   "outputs": [
    {
     "name": "stdout",
     "output_type": "stream",
     "text": [
      "5\n",
      "6\n",
      "7\n",
      "8\n",
      "9\n",
      "10\n",
      "11\n",
      "12\n",
      "13\n",
      "14\n",
      "15\n"
     ]
    }
   ],
   "source": [
    "i = 5\n",
    "while i <= 15:\n",
    "    print(i)\n",
    "    i += 1 "
   ]
  },
  {
   "cell_type": "markdown",
   "metadata": {},
   "source": [
    "-Create a while loop that will count by 2's starting with 0 and ending at 100. Follow each number with a new line."
   ]
  },
  {
   "cell_type": "code",
   "execution_count": 9,
   "metadata": {},
   "outputs": [
    {
     "name": "stdout",
     "output_type": "stream",
     "text": [
      "0\n",
      "2\n",
      "4\n",
      "6\n",
      "8\n",
      "10\n",
      "12\n",
      "14\n",
      "16\n",
      "18\n",
      "20\n",
      "22\n",
      "24\n",
      "26\n",
      "28\n",
      "30\n",
      "32\n",
      "34\n",
      "36\n",
      "38\n",
      "40\n",
      "42\n",
      "44\n",
      "46\n",
      "48\n",
      "50\n",
      "52\n",
      "54\n",
      "56\n",
      "58\n",
      "60\n",
      "62\n",
      "64\n",
      "66\n",
      "68\n",
      "70\n",
      "72\n",
      "74\n",
      "76\n",
      "78\n",
      "80\n",
      "82\n",
      "84\n",
      "86\n",
      "88\n",
      "90\n",
      "92\n",
      "94\n",
      "96\n",
      "98\n",
      "100\n"
     ]
    }
   ],
   "source": [
    "i = 0\n",
    "while i <= 100:\n",
    "    print(i)\n",
    "    i += 2"
   ]
  },
  {
   "cell_type": "markdown",
   "metadata": {},
   "source": [
    "-- Alter your loop to count backwards by 5's from 100 to -10."
   ]
  },
  {
   "cell_type": "code",
   "execution_count": 15,
   "metadata": {},
   "outputs": [
    {
     "name": "stdout",
     "output_type": "stream",
     "text": [
      "100\n",
      "95\n",
      "90\n",
      "85\n",
      "80\n",
      "75\n",
      "70\n",
      "65\n",
      "60\n",
      "55\n",
      "50\n",
      "45\n",
      "40\n",
      "35\n",
      "30\n",
      "25\n",
      "20\n",
      "15\n",
      "10\n",
      "5\n",
      "0\n",
      "-5\n",
      "-10\n"
     ]
    }
   ],
   "source": [
    "i = 100\n",
    "while i >= -10:\n",
    "    print(i)\n",
    "    i -= 5"
   ]
  },
  {
   "cell_type": "markdown",
   "metadata": {},
   "source": [
    "--Create a while loop that starts at 2, and displays the number squared on each line while the number is less than 1,000,000. Output should equal:"
   ]
  },
  {
   "cell_type": "code",
   "execution_count": 16,
   "metadata": {},
   "outputs": [
    {
     "name": "stdout",
     "output_type": "stream",
     "text": [
      "2\n",
      "4\n",
      "16\n",
      "256\n",
      "65536\n"
     ]
    }
   ],
   "source": [
    "i = 2\n",
    "while i < 1000000:\n",
    "    print(i)\n",
    "    i *= i"
   ]
  },
  {
   "cell_type": "markdown",
   "metadata": {},
   "source": [
    "--Write a loop that uses print to create the output shown below."
   ]
  },
  {
   "cell_type": "code",
   "execution_count": 17,
   "metadata": {},
   "outputs": [
    {
     "name": "stdout",
     "output_type": "stream",
     "text": [
      "100\n",
      "95\n",
      "90\n",
      "85\n",
      "80\n",
      "75\n",
      "70\n",
      "65\n",
      "60\n",
      "55\n",
      "50\n",
      "45\n",
      "40\n",
      "35\n",
      "30\n",
      "25\n",
      "20\n",
      "15\n",
      "10\n",
      "5\n"
     ]
    }
   ],
   "source": [
    "i = 100\n",
    "while i >= 5:\n",
    "    print(i)\n",
    "    i -= 5"
   ]
  },
  {
   "cell_type": "markdown",
   "metadata": {},
   "source": [
    "For Loops:"
   ]
  },
  {
   "cell_type": "markdown",
   "metadata": {},
   "source": [
    "- Write some code that prompts the user for a number, then shows a multiplication table up through 10 for that number.\n",
    "- Create a list of integers from 1-10\n",
    "- multipy the inpyt by the list one at a time"
   ]
  },
  {
   "cell_type": "code",
   "execution_count": 33,
   "metadata": {},
   "outputs": [
    {
     "name": "stdout",
     "output_type": "stream",
     "text": [
      "Enter a number 7\n",
      "7 x 1 = 7\n",
      "7 x 2 = 14\n",
      "7 x 3 = 21\n",
      "7 x 4 = 28\n",
      "7 x 5 = 35\n",
      "7 x 6 = 42\n",
      "7 x 7 = 49\n",
      "7 x 8 = 56\n",
      "7 x 9 = 63\n",
      "7 x 10 = 70\n"
     ]
    }
   ],
   "source": [
    "user_input = input('Enter a number ')\n",
    "user_input = int(user_input)\n",
    "numbers = range(1,11)\n",
    "for n in numbers:\n",
    "    print(f'{user_input} x {n} = {n*user_input}')\n",
    "\n",
    "\n",
    "    \n"
   ]
  },
  {
   "cell_type": "code",
   "execution_count": 29,
   "metadata": {},
   "outputs": [
    {
     "name": "stdout",
     "output_type": "stream",
     "text": [
      "1\n",
      "22\n",
      "333\n",
      "4444\n",
      "55555\n",
      "666666\n",
      "7777777\n",
      "88888888\n",
      "999999999\n"
     ]
    }
   ],
   "source": [
    "pyramid = range(1,10)\n",
    "\n",
    "for n in pyramid:\n",
    "    print(f'{n}'*n)"
   ]
  },
  {
   "cell_type": "markdown",
   "metadata": {},
   "source": [
    "Break and Continue:"
   ]
  },
  {
   "cell_type": "code",
   "execution_count": 21,
   "metadata": {},
   "outputs": [
    {
     "name": "stdout",
     "output_type": "stream",
     "text": [
      "Enter an odd number between 1 and 50: 19\n",
      " Here is an odd number: 1\n",
      " Here is an odd number: 3\n",
      " Here is an odd number: 5\n",
      " Here is an odd number: 7\n",
      " Here is an odd number: 9\n",
      " Here is an odd number: 11\n",
      " Here is an odd number: 13\n",
      " Here is an odd number: 15\n",
      " Here is an odd number: 17\n",
      "Yikes! Skipping number: 19\n",
      " Here is an odd number: 21\n",
      " Here is an odd number: 23\n",
      " Here is an odd number: 25\n",
      " Here is an odd number: 27\n",
      " Here is an odd number: 29\n",
      " Here is an odd number: 31\n",
      " Here is an odd number: 33\n",
      " Here is an odd number: 35\n",
      " Here is an odd number: 37\n",
      " Here is an odd number: 39\n",
      " Here is an odd number: 41\n",
      " Here is an odd number: 43\n",
      " Here is an odd number: 45\n",
      " Here is an odd number: 47\n",
      " Here is an odd number: 49\n",
      " Here is an odd number: 51\n"
     ]
    }
   ],
   "source": [
    "starting_point = -1\n",
    "\n",
    "correct_number = input(\"Enter an odd number between 1 and 50: \")\n",
    "correct_number = int(correct_number)\n",
    "while correct_number < 1 or correct_number > 50 or correct_number % 2 == 0:\n",
    "    print(f\"{correct_number} is not a valid input, try again\")\n",
    "    correct_number = input(\"Enter an odd number between 1 and 50: \")\n",
    "    correct_number = int(correct_number)\n",
    "while starting_point <= 50:\n",
    "    starting_point += 2\n",
    "    if starting_point == correct_number:\n",
    "        print(f\"Yikes! Skipping number: {correct_number}\")\n",
    "        continue\n",
    "    print(f\" Here is an odd number: {starting_point}\")\n",
    "\n",
    "    \n"
   ]
  },
  {
   "cell_type": "markdown",
   "metadata": {},
   "source": [
    "-The input function can be used to prompt for input and use that input in your python code. Prompt the user to enter a positive number and write a loop that counts from 0 to that number. (Hints: first make sure that the value the user entered is a valid number, also note that the input function returns a string, so you'll need to convert this to a numeric type.)"
   ]
  },
  {
   "cell_type": "code",
   "execution_count": 35,
   "metadata": {},
   "outputs": [
    {
     "name": "stdout",
     "output_type": "stream",
     "text": [
      "Enter a positive number: 9\n",
      "0\n",
      "1\n",
      "2\n",
      "3\n",
      "4\n",
      "5\n",
      "6\n",
      "7\n",
      "8\n",
      "9\n"
     ]
    }
   ],
   "source": [
    "starting_point = 0\n",
    "\n",
    "pos_num = input(\"Enter a positive number: \")\n",
    "pos_num = int(pos_num)\n",
    "while starting_point < pos_num+1:\n",
    "    print(starting_point)\n",
    "    starting_point += 1\n"
   ]
  },
  {
   "cell_type": "markdown",
   "metadata": {},
   "source": [
    "-Write a program that prompts the user for a positive integer. Next write a loop that prints out the numbers from the number the user entered down to 1"
   ]
  },
  {
   "cell_type": "code",
   "execution_count": 47,
   "metadata": {},
   "outputs": [
    {
     "name": "stdout",
     "output_type": "stream",
     "text": [
      "Input a positive number 8\n",
      "8\n",
      "7\n",
      "6\n",
      "5\n",
      "4\n",
      "3\n",
      "2\n",
      "1\n"
     ]
    }
   ],
   "source": [
    "# pos_int = input(\"Enter a positive integer \")\n",
    "# pos_int = int(pos_int)\n",
    "\n",
    "# starting_point = pos_int\n",
    "# while pos_int == starting_point and pos_int >= 1:\n",
    "#     print(starting_point)\n",
    "#     starting_point -= 1\n",
    "\n",
    "user_choice = input(\"Input a positive number \")\n",
    "while (user_choice.isdigit() == False \n",
    "       or int(user_choice) <= 0):\n",
    "    print(f'{user_choice} is not a positive integer')\n",
    "    user_choice = input('please input a positive number')\n",
    "user_choice = int(user_choice)\n",
    "while user_choice >= 1:\n",
    "    print(user_choice)\n",
    "    user_choice -= 1\n",
    "\n"
   ]
  },
  {
   "cell_type": "markdown",
   "metadata": {},
   "source": [
    "Fizz Buzz"
   ]
  },
  {
   "cell_type": "code",
   "execution_count": 50,
   "metadata": {},
   "outputs": [
    {
     "name": "stdout",
     "output_type": "stream",
     "text": [
      "1\n",
      "2\n",
      "Fizz\n",
      "4\n",
      "Buzz\n",
      "Fizz\n",
      "7\n",
      "8\n",
      "Fizz\n",
      "Buzz\n",
      "11\n",
      "Fizz\n",
      "13\n",
      "14\n",
      "FizzBuzz\n",
      "16\n",
      "17\n",
      "Fizz\n",
      "19\n",
      "Buzz\n",
      "Fizz\n",
      "22\n",
      "23\n",
      "Fizz\n",
      "Buzz\n",
      "26\n",
      "Fizz\n",
      "28\n",
      "29\n",
      "FizzBuzz\n",
      "31\n",
      "32\n",
      "Fizz\n",
      "34\n",
      "Buzz\n",
      "Fizz\n",
      "37\n",
      "38\n",
      "Fizz\n",
      "Buzz\n",
      "41\n",
      "Fizz\n",
      "43\n",
      "44\n",
      "FizzBuzz\n",
      "46\n",
      "47\n",
      "Fizz\n",
      "49\n",
      "Buzz\n",
      "Fizz\n",
      "52\n",
      "53\n",
      "Fizz\n",
      "Buzz\n",
      "56\n",
      "Fizz\n",
      "58\n",
      "59\n",
      "FizzBuzz\n",
      "61\n",
      "62\n",
      "Fizz\n",
      "64\n",
      "Buzz\n",
      "Fizz\n",
      "67\n",
      "68\n",
      "Fizz\n",
      "Buzz\n",
      "71\n",
      "Fizz\n",
      "73\n",
      "74\n",
      "FizzBuzz\n",
      "76\n",
      "77\n",
      "Fizz\n",
      "79\n",
      "Buzz\n",
      "Fizz\n",
      "82\n",
      "83\n",
      "Fizz\n",
      "Buzz\n",
      "86\n",
      "Fizz\n",
      "88\n",
      "89\n",
      "FizzBuzz\n",
      "91\n",
      "92\n",
      "Fizz\n",
      "94\n",
      "Buzz\n",
      "Fizz\n",
      "97\n",
      "98\n",
      "Fizz\n"
     ]
    }
   ],
   "source": [
    "for i in range(1,100):\n",
    "    if i % 5 == 0 and i % 3 == 0:\n",
    "        print('FizzBuzz')\n",
    "    elif i % 3 == 0:\n",
    "        print('Fizz')\n",
    "    elif i % 5 == 0:\n",
    "        print('Buzz')\n",
    "    else: \n",
    "        print(i)"
   ]
  },
  {
   "cell_type": "markdown",
   "metadata": {},
   "source": [
    "-Display a table of powers.\n",
    "-Prompt the user to enter an integer.\n",
    "-Display a table of squares and cubes from 1 to the value entered.\n",
    "-Ask if the user wants to continue.\n",
    "-Assume that the user will enter valid data.\n",
    "-Only continue if the user agrees to."
   ]
  },
  {
   "cell_type": "code",
   "execution_count": 63,
   "metadata": {},
   "outputs": [
    {
     "name": "stdout",
     "output_type": "stream",
     "text": [
      "Input a positive number 7\n",
      " number| squared | cubed|\n",
      "1 | 1  | 1 \n",
      "2 | 4  | 8 \n",
      "3 | 9  | 27 \n",
      "4 | 16  | 64 \n",
      "5 | 25  | 125 \n",
      "6 | 36  | 216 \n",
      "7 | 49  | 343 \n",
      "Do you want to continue? Type y or yes y\n"
     ]
    },
    {
     "ename": "NameError",
     "evalue": "name 'chioce' is not defined",
     "output_type": "error",
     "traceback": [
      "\u001b[0;31m---------------------------------------------------------------------------\u001b[0m",
      "\u001b[0;31mNameError\u001b[0m                                 Traceback (most recent call last)",
      "\u001b[0;32m<ipython-input-63-7c6ac3fe157d>\u001b[0m in \u001b[0;36m<module>\u001b[0;34m\u001b[0m\n\u001b[1;32m     12\u001b[0m     \u001b[0mchoice\u001b[0m \u001b[0;34m=\u001b[0m \u001b[0minput\u001b[0m\u001b[0;34m(\u001b[0m\u001b[0;34m'Do you want to continue? Type y or yes '\u001b[0m\u001b[0;34m)\u001b[0m\u001b[0;34m\u001b[0m\u001b[0;34m\u001b[0m\u001b[0m\n\u001b[1;32m     13\u001b[0m     \u001b[0mchoice\u001b[0m \u001b[0;34m=\u001b[0m \u001b[0mchoice\u001b[0m\u001b[0;34m.\u001b[0m\u001b[0mlower\u001b[0m\u001b[0;34m(\u001b[0m\u001b[0;34m)\u001b[0m\u001b[0;34m\u001b[0m\u001b[0;34m\u001b[0m\u001b[0m\n\u001b[0;32m---> 14\u001b[0;31m     \u001b[0;32mif\u001b[0m \u001b[0mchioce\u001b[0m \u001b[0;32mnot\u001b[0m \u001b[0;32min\u001b[0m \u001b[0;34m[\u001b[0m\u001b[0;34m'y'\u001b[0m\u001b[0;34m,\u001b[0m\u001b[0;34m'yes'\u001b[0m\u001b[0;34m]\u001b[0m\u001b[0;34m:\u001b[0m\u001b[0;34m\u001b[0m\u001b[0;34m\u001b[0m\u001b[0m\n\u001b[0m\u001b[1;32m     15\u001b[0m          \u001b[0;32mbreak\u001b[0m\u001b[0;34m\u001b[0m\u001b[0;34m\u001b[0m\u001b[0m\n",
      "\u001b[0;31mNameError\u001b[0m: name 'chioce' is not defined"
     ]
    }
   ],
   "source": [
    "while True:\n",
    "    user_choice = input(\"Input a positive number \")\n",
    "    while (user_choice.isdigit() == False \n",
    "           or int(user_choice) <= 1):\n",
    "        print(f'{user_choice} is not a positive integer')\n",
    "        user_choice = input('please input a positive number')\n",
    "    user_choice = int(user_choice)\n",
    "\n",
    "    print(' number| squared | cubed|')\n",
    "    for i in range(1, user_choice +1):\n",
    "        print(f'{i} | {i**2}  | {i**3} ')\n",
    "    choice = input('Do you want to continue? Type y or yes ')\n",
    "    choice = choice.lower()\n",
    "    if chioce not in ['y','yes']:\n",
    "         break\n"
   ]
  },
  {
   "cell_type": "markdown",
   "metadata": {},
   "source": [
    " Convert given number grades into letter grades.\n",
    " Prompt the user for a numerical grade from 0 to 100.\n",
    " Display the corresponding letter grade.\n",
    " Prompt the user to continue.\n",
    " Assume that the user will enter valid integers for the grades.\n",
    " The application should only continue if the user agrees to.\n",
    " Grade Ranges:\n",
    " A : 100 - 88\n",
    " B : 87 - 80\n",
    " C : 79 - 67\n",
    " D : 66 - 60\n",
    " F : 59 - 0"
   ]
  }
 ],
 "metadata": {
  "kernelspec": {
   "display_name": "Python 3",
   "language": "python",
   "name": "python3"
  },
  "language_info": {
   "codemirror_mode": {
    "name": "ipython",
    "version": 3
   },
   "file_extension": ".py",
   "mimetype": "text/x-python",
   "name": "python",
   "nbconvert_exporter": "python",
   "pygments_lexer": "ipython3",
   "version": "3.7.4"
  }
 },
 "nbformat": 4,
 "nbformat_minor": 2
}
