{
 "cells": [
  {
   "cell_type": "markdown",
   "metadata": {},
   "source": [
    "#Conditional Basics\n",
    "--prompt the user for the day of the week, print out whether today is Monday or not"
   ]
  },
  {
   "cell_type": "code",
   "execution_count": 2,
   "metadata": {},
   "outputs": [
    {
     "name": "stdout",
     "output_type": "stream",
     "text": [
      "What is the day of the week? monday\n",
      "Today is Monday\n"
     ]
    }
   ],
   "source": [
    "current_day_of_the_week = input('What is the day of the week? ')\n",
    "if current_day_of_the_week.lower() == 'monday':\n",
    "    print('Today is Monday')\n",
    "else: \n",
    "    print ('Today is not Monday')"
   ]
  },
  {
   "cell_type": "markdown",
   "metadata": {},
   "source": [
    "--prompt the user for a day of the week, print out whether the day of the week is a weekday or weekend"
   ]
  },
  {
   "cell_type": "code",
   "execution_count": 4,
   "metadata": {},
   "outputs": [
    {
     "name": "stdout",
     "output_type": "stream",
     "text": [
      "What is the day of the week? sunday\n",
      "It is a weekend\n"
     ]
    }
   ],
   "source": [
    "day_of_the_week = input('What is the day of the week? ')\n",
    "if day_of_the_week.lower() == 'saturday' or day_of_the_week == 'sunday':\n",
    "    print('It is a weekend')\n",
    "else:\n",
    "    print('It a weekday')"
   ]
  },
  {
   "cell_type": "code",
   "execution_count": null,
   "metadata": {},
   "outputs": [],
   "source": []
  }
 ],
 "metadata": {
  "kernelspec": {
   "display_name": "Python 3",
   "language": "python",
   "name": "python3"
  },
  "language_info": {
   "codemirror_mode": {
    "name": "ipython",
    "version": 3
   },
   "file_extension": ".py",
   "mimetype": "text/x-python",
   "name": "python",
   "nbconvert_exporter": "python",
   "pygments_lexer": "ipython3",
   "version": "3.7.4"
  }
 },
 "nbformat": 4,
 "nbformat_minor": 2
}
